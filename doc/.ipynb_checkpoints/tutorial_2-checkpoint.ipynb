{
 "cells": [
  {
   "cell_type": "markdown",
   "metadata": {},
   "source": [
    "<div class=\"alert alert-danger\">\n",
    "Warning: this tutorial is continually updated, Please verify the last update.\n",
    "<div>"
   ]
  },
  {
   "cell_type": "markdown",
   "metadata": {},
   "source": [
    "This tutorial describes how to use the SMT, which is a python toolbox for building surrogate models.\n",
    "\n",
    "Three steps are necessary to build any type of surrogate model with SMT.\n",
    "The first step consists of constructing the design of experiments (DoE), denoted by $\\textbf{X}=[\\textbf{x}^{(1)},\\dotsc,\\textbf{x}^{(n)}]$, with $n$ the number of observations.\n",
    "Several types of DoE are existing in the litterature.\n",
    "In this tutorial, we use the latin hypercube type based on [this package](https://pythonhosted.org/pyDOE/).\n",
    "The second step consists of evaluating $\\textbf{X}$ using the true function $y$.\n",
    "The outputs of $\\textbf{X}$ will be denoted by $\\textbf{y}$.\n",
    "The final step consists of building the surrogate model through the estimation of its parameters."
   ]
  },
  {
   "cell_type": "markdown",
   "metadata": {},
   "source": [
    "After installing the SMT, please add the path of the toolbox for running this tutorial."
   ]
  },
  {
   "cell_type": "code",
   "execution_count": 1,
   "metadata": {
    "collapsed": false
   },
   "outputs": [],
   "source": [
    "import warnings\n",
    "import sys\n",
    "try:\n",
    "    # Add the path of the toolbox\n",
    "    sys.path.append(\"/home/mbouhlel/hg/SMT-master/\") # Fill by the user\n",
    "    sys.path.append(\"/home/mbouhlel/hg/SMT-master/examples\")\n",
    "    import smt\n",
    "except:\n",
    "    warnings.warn(\"The SMT's path is wrong, the code will not work.\")"
   ]
  },
  {
   "cell_type": "markdown",
   "metadata": {},
   "source": [
    "# 1. Construction and evaluation of the DoE"
   ]
  },
  {
   "cell_type": "markdown",
   "metadata": {},
   "source": [
    "To achieve the two first steps in the surrogate model construction, we use the scripts---\"doe_lhs.py\", \"tools_doe\" and \"tools_benchmark.py\"---located in \".../SMT/examples\" for the construction and evaluation of the DoE.\n",
    "For this tutorial, we build a surrogate model based on data from an analytical function, $y$ given by\n",
    "\\begin{equation}\n",
    "y = \\sum\\limits_{i=1}^{\\text{dim}}x_i^2,\n",
    "\\end{equation}\n",
    "with $\\text{dim} = 10$, $n=10\\text{dim}$ and a number of validation points $n_{\\text{test}}=500$."
   ]
  },
  {
   "cell_type": "code",
   "execution_count": 2,
   "metadata": {
    "collapsed": false
   },
   "outputs": [],
   "source": [
    "from __future__ import division\n",
    "%matplotlib inline\n",
    "import numpy as np\n",
    "import tools_benchmark as fun\n",
    "from tools_doe import  trans\n",
    "import doe_lhs\n",
    "import matplotlib.pyplot as plt\n",
    "from scipy import linalg\n",
    "\n",
    "# Initialization of the problem\n",
    "dim = 10\n",
    "ndoe = 10*dim\n",
    "\n",
    "# Upper and lower bounds of the problem\n",
    "xlimits = np.zeros((dim, 2))\n",
    "xlimits[:, 0] = -10\n",
    "xlimits[:, 1] = 10\n",
    "\n",
    "# Construction of the DOE in [0,1]\n",
    "xt = doe_lhs.lhs(dim,ndoe,'cm')\n",
    "\n",
    "# Transform the DoE in [LB,UB]\n",
    "xt = trans(xt,xlimits[:, 0],xlimits[:, 1])\n",
    "\n",
    "# Compute the output (+ the gradient if available, otherwise yd is {})\n",
    "yt,yd = fun.carre(xt)\n",
    "\n",
    "# Construction of the validation points\n",
    "ntest = 500\n",
    "xtest = doe_lhs.lhs(dim, ntest)\n",
    "xtest = trans(xtest,xlimits[:, 0],xlimits[:, 1])\n",
    "ytest,ydtest = fun.carre(xtest)"
   ]
  },
  {
   "cell_type": "markdown",
   "metadata": {},
   "source": [
    "We have so far constructed the training (xt,yt) and validating (xtest,ytest) points."
   ]
  },
  {
   "cell_type": "markdown",
   "metadata": {},
   "source": [
    "# 2. Building a surrogate model from the SMT"
   ]
  },
  {
   "cell_type": "markdown",
   "metadata": {},
   "source": [
    "## 2.1. Main functions"
   ]
  },
  {
   "cell_type": "markdown",
   "metadata": {},
   "source": [
    "For using any surrogate model with SMT, we first need to import the surrogate model that we want to use\n",
    "\n",
    "&nbsp;&nbsp;&nbsp;&nbsp;&nbsp; # Import a model\n",
    "\n",
    "&nbsp;&nbsp;&nbsp;&nbsp;&nbsp; from smt.model import MODEL\n",
    "\n",
    "We import the surrogate model (MODEL, in uppercase) with the module model (model, in lowercase).\n",
    "\n",
    "Then, we initialize the surrogate model using two dictionaries to define the parameters of the model\n",
    "\n",
    "* Dictionary of the model-options: set up the parameters related to the surrogate model.\n",
    "This list of parameters is different for each surrogate model\n",
    "\n",
    "* Dictionary of the print-options: set up the print-parameters related to the surrogate model.\n",
    "This list of parameters is the same for each surrogate model\n",
    "\n",
    "Four parameters are always used in the \"Dictionary of the print-options\" for all models\n",
    "\n",
    "* 'global':bool --> not display any time-information if False, default: True\n",
    "\n",
    "* 'problem':bool --> display the problem information, default: True\n",
    "\n",
    "* 'time_eval':bool --> display the time to evaluate xtest, default: True\n",
    "\n",
    "* 'time_train':bool --> display the time to train the model, default: True\n",
    "\n",
    "The initialization should be\n",
    "\n",
    "&nbsp;&nbsp;&nbsp;&nbsp;&nbsp; # Initialization of the model\n",
    "\n",
    "&nbsp;&nbsp;&nbsp;&nbsp;&nbsp; t = MODEL({Dictionary of the model-options},{Dictionary of the print-options})\n",
    "\n",
    "Then, we add the training points into the surrogate model and the gradient values if available\n",
    "\n",
    "&nbsp;&nbsp;&nbsp;&nbsp;&nbsp; # Add the training points\n",
    "\n",
    "&nbsp;&nbsp;&nbsp;&nbsp;&nbsp; t.add training pts('exact',xt,yt)\n",
    "\n",
    "&nbsp;&nbsp;&nbsp;&nbsp;&nbsp; # Add the gradient information if available\n",
    "\n",
    "&nbsp;&nbsp;&nbsp;&nbsp;&nbsp; for i in range(dim):\n",
    "\n",
    "&nbsp;&nbsp;&nbsp;&nbsp;&nbsp;&nbsp;&nbsp;&nbsp;&nbsp;&nbsp;  t.add training pts('exact',xt,yd[:, i],kx=i)\n",
    "    \n",
    "Next, we build the surrogate model through the \"train\" method\n",
    "\n",
    "&nbsp;&nbsp;&nbsp;&nbsp;&nbsp; # Train the model\n",
    "\n",
    "&nbsp;&nbsp;&nbsp;&nbsp;&nbsp; t.train()\n",
    "\n",
    "Finally, we predict the output of the unknown points through the surrogate model\n",
    "\n",
    "&nbsp;&nbsp;&nbsp;&nbsp;&nbsp; # Prediction of xtest\n",
    "\n",
    "&nbsp;&nbsp;&nbsp;&nbsp;&nbsp; y = t.predict(xtest)"
   ]
  },
  {
   "cell_type": "markdown",
   "metadata": {},
   "source": [
    "## 2.2. Examples "
   ]
  },
  {
   "cell_type": "markdown",
   "metadata": {},
   "source": [
    "### 2.2.1. The least square model"
   ]
  },
  {
   "cell_type": "markdown",
   "metadata": {},
   "source": [
    "The first model used in this tutorial is the least square model (LS).\n",
    "No parameter is needed for running this model"
   ]
  },
  {
   "cell_type": "code",
   "execution_count": 3,
   "metadata": {
    "collapsed": false
   },
   "outputs": [
    {
     "name": "stdout",
     "output_type": "stream",
     "text": [
      "___________________________________________________________________________\n",
      "\n",
      "                                    LS\n",
      "___________________________________________________________________________\n",
      "\n",
      " Problem size\n",
      "\n",
      "   # training pts. (exact)   : 100\n",
      "\n",
      "___________________________________________________________________________\n",
      "\n",
      " Training\n",
      "\n",
      "\n",
      "   Total (sec)    :  0.0763819 \n",
      "\n",
      "___________________________________________________________________________\n",
      "\n",
      " Evaluation\n",
      "\n",
      "   # eval pts.  : 500\n",
      "\n",
      "   Total (sec)    :  0.0000651 \n",
      "   Time/pt. (sec) :  0.0000001 \n",
      "\n"
     ]
    }
   ],
   "source": [
    "from smt.ls import LS\n",
    "t = LS({},{})\n",
    "t.add_training_pts('exact',xt,yt)\n",
    "t.train()\n",
    "y = t.predict(xtest)"
   ]
  },
  {
   "cell_type": "markdown",
   "metadata": {},
   "source": [
    "We compute the relative error (RE in %) \n",
    "\\begin{equation}\n",
    "\\text{RE} = \\frac{\\sqrt{\\sum\\limits_{i=1}^{n_\\text{test}}\\left(y\\left(\\textbf{x}_{\\text{test}}\\right)-\\hat{y}\\left(\\textbf{x}_{\\text{test}}\\right)\\right)^2}}{\\sqrt{\\sum\\limits_{i=1}^{n_{\\text{test}}}\\left(y\\left(\\textbf{x}_{\\text{test}}\\right)\\right)^2}}100,\n",
    "\\end{equation}\n"
   ]
  },
  {
   "cell_type": "code",
   "execution_count": 5,
   "metadata": {
    "collapsed": false
   },
   "outputs": [
    {
     "name": "stdout",
     "output_type": "stream",
     "text": [
      "LS,  err: 28.3947829941\n"
     ]
    }
   ],
   "source": [
    "print 'LS,  err: '+str(linalg.norm(y.reshape((ntest,1))-ytest.reshape((ntest,\n",
    "            1)))/linalg.norm(ytest.reshape((ntest,1)))*100)"
   ]
  },
  {
   "cell_type": "markdown",
   "metadata": {},
   "source": [
    "We plot the results. The x-axis represents the true values of the validation outputs, the y-axis represents the prediction values of the validation outputs"
   ]
  },
  {
   "cell_type": "code",
   "execution_count": 27,
   "metadata": {
    "collapsed": false
   },
   "outputs": [
    {
     "data": {
      "image/png": "[encoded data removed]",
      "text/plain": [
       "<matplotlib.figure.Figure at 0x7fc2ac0fe210>"
      ]
     },
     "metadata": {},
     "output_type": "display_data"
    }
   ],
   "source": [
    "plt.figure()\n",
    "plt.plot(ytest,ytest)\n",
    "plt.plot(ytest,y,'.')\n",
    "plt.xlabel('ytest')\n",
    "plt.ylabel('y')\n",
    "plt.show()"
   ]
  },
  {
   "cell_type": "markdown",
   "metadata": {
    "collapsed": true
   },
   "source": [
    "### 2.2.2. The square polynomial approach"
   ]
  },
  {
   "cell_type": "markdown",
   "metadata": {},
   "source": [
    "The second model used in this tutorial is the square polynomial approach (PA2).\n",
    "No parameters are needed for running this model"
   ]
  },
  {
   "cell_type": "code",
   "execution_count": 28,
   "metadata": {
    "collapsed": false
   },
   "outputs": [
    {
     "name": "stdout",
     "output_type": "stream",
     "text": [
      "___________________________________________________________________________\n",
      "\n",
      "                                    PA2\n",
      "___________________________________________________________________________\n",
      "\n",
      " Problem size\n",
      "\n",
      "   # training pts. (exact)   : 100\n",
      "\n",
      "___________________________________________________________________________\n",
      "\n",
      " Training\n",
      "\n",
      "\n",
      "   Total (sec)    :  0.0020270 \n",
      "\n",
      "___________________________________________________________________________\n",
      "\n",
      " Evaluation\n",
      "\n",
      "   # eval pts.  : 500\n",
      "\n",
      "   Total (sec)    :  0.0003390 \n",
      "   Time/pt. (sec) :  0.0000007 \n",
      "\n"
     ]
    }
   ],
   "source": [
    "from smt.pa2 import PA2\n",
    "t = PA2({},{})\n",
    "t.add_training_pts('exact',xt,yt)\n",
    "t.train()\n",
    "y = t.predict(xtest)"
   ]
  },
  {
   "cell_type": "markdown",
   "metadata": {},
   "source": [
    "We compute the relative error (RE)"
   ]
  },
  {
   "cell_type": "code",
   "execution_count": 29,
   "metadata": {
    "collapsed": false
   },
   "outputs": [
    {
     "name": "stdout",
     "output_type": "stream",
     "text": [
      "PA2,  err: 3.31848508757e-12\n"
     ]
    }
   ],
   "source": [
    "print 'PA2,  err: '+str(np.sqrt(1/ntest*linalg.norm(y.reshape((ntest,1))-\n",
    "            ytest.reshape((ntest,1)))**2)/np.sqrt(1/ntest*linalg.norm(\n",
    "            ytest.reshape((ntest,1)))**2)*100)\n"
   ]
  },
  {
   "cell_type": "markdown",
   "metadata": {},
   "source": [
    "We plot the results"
   ]
  },
  {
   "cell_type": "code",
   "execution_count": 30,
   "metadata": {
    "collapsed": false
   },
   "outputs": [
    {
     "data": {
      "image/png": "[encoded data removed]",
      "text/plain": [
       "<matplotlib.figure.Figure at 0x7fc2a7344c50>"
      ]
     },
     "metadata": {},
     "output_type": "display_data"
    }
   ],
   "source": [
    "plt.figure()\n",
    "plt.plot(ytest,ytest)\n",
    "plt.plot(ytest,y,'.')\n",
    "plt.xlabel('ytest')\n",
    "plt.ylabel('y')\n",
    "plt.show()"
   ]
  },
  {
   "cell_type": "markdown",
   "metadata": {},
   "source": [
    "### 2.2.3. The kriging-based models"
   ]
  },
  {
   "cell_type": "markdown",
   "metadata": {},
   "source": [
    "The \"kpls.py\" module permits the construction of 4 different models, among the kriging-based models.\n",
    "Indeed, following some simple rules on the use of the parameters related to the model, we could construct the classic (ordinary or universal) kriging, KPLS, KPLSK and GEKPLS models."
   ]
  },
  {
   "cell_type": "markdown",
   "metadata": {},
   "source": [
    "#### 2.2.3.1 The classic kriging model"
   ]
  },
  {
   "cell_type": "markdown",
   "metadata": {},
   "source": [
    "For using the kriging model, the user needs to provide few parameters in the 'Dictionary of the model-options'\n",
    "\n",
    "* 'name': 'KRG'\n",
    "\n",
    "* 'n_comp': dim, n_comp is the number of principal components. n_comp must be equal to dim for using the kriging model\n",
    "\n",
    "* 'theta0': [1e-2]*dim, theta0 is a list of length dim, containing the starting point for the hyperparameters optimization\n",
    "\n",
    "* 'poly' : 'constant', poly is a string among ['constant','linear','quadratic'], default: 'constant'.\n",
    "\n",
    "* 'corr' :  'squar_exp', corr is a string among ['abs_exp','squar_exp'], default: 'squar_exp'\n",
    "\n",
    "Let us run an ordinary kriging model on our example"
   ]
  },
  {
   "cell_type": "code",
   "execution_count": 31,
   "metadata": {
    "collapsed": false
   },
   "outputs": [
    {
     "name": "stdout",
     "output_type": "stream",
     "text": [
      "___________________________________________________________________________\n",
      "\n",
      "                                    KRG\n",
      "___________________________________________________________________________\n",
      "\n",
      " Problem size\n",
      "\n",
      "   # training pts. (exact)   : 100\n",
      "\n",
      "___________________________________________________________________________\n",
      "\n",
      " Training\n",
      "\n",
      "\n",
      "   Total (sec)    :  0.0937209 \n",
      "\n",
      "___________________________________________________________________________\n",
      "\n",
      " Evaluation\n",
      "\n",
      "   # eval pts.  : 500\n",
      "\n",
      "   Total (sec)    :  0.0065279 \n",
      "   Time/pt. (sec) :  0.0000131 \n",
      "\n"
     ]
    }
   ],
   "source": [
    "from smt.kpls import KPLS\n",
    "t = KPLS({'name':'KRG','n_comp':dim,'theta0': [1e-2]*dim},{})\n",
    "t.add_training_pts('exact',xt,yt)\n",
    "\n",
    "t.train()\n",
    "y = t.predict(xtest)"
   ]
  },
  {
   "cell_type": "markdown",
   "metadata": {},
   "source": [
    "We compute the relative error (RE)"
   ]
  },
  {
   "cell_type": "code",
   "execution_count": 32,
   "metadata": {
    "collapsed": false
   },
   "outputs": [
    {
     "name": "stdout",
     "output_type": "stream",
     "text": [
      "ordinary Kriging,  err: 0.993961493986\n"
     ]
    }
   ],
   "source": [
    "print 'ordinary Kriging,  err: '+str(np.sqrt(1/ntest*linalg.norm(y.reshape((ntest,1))-\n",
    "                 ytest.reshape((ntest,1)))**2)/np.sqrt(1/ntest*linalg.norm(\n",
    "                 ytest.reshape((ntest,1)))**2)*100)"
   ]
  },
  {
   "cell_type": "markdown",
   "metadata": {},
   "source": [
    "We plot the results"
   ]
  },
  {
   "cell_type": "code",
   "execution_count": 33,
   "metadata": {
    "collapsed": false
   },
   "outputs": [
    {
     "data": {
      "image/png": "[encoded data removed]",
      "text/plain": [
       "<matplotlib.figure.Figure at 0x7fc2a6dfdf90>"
      ]
     },
     "metadata": {},
     "output_type": "display_data"
    }
   ],
   "source": [
    "plt.figure()\n",
    "plt.plot(ytest,ytest)\n",
    "plt.plot(ytest,y,'.')\n",
    "plt.xlabel('ytest')\n",
    "plt.ylabel('y')\n",
    "plt.show()"
   ]
  },
  {
   "cell_type": "markdown",
   "metadata": {},
   "source": [
    "Let us now run a kriging model with a quadratic regression term"
   ]
  },
  {
   "cell_type": "code",
   "execution_count": 34,
   "metadata": {
    "collapsed": false
   },
   "outputs": [
    {
     "name": "stdout",
     "output_type": "stream",
     "text": [
      "___________________________________________________________________________\n",
      "\n",
      "                                    KRG\n",
      "___________________________________________________________________________\n",
      "\n",
      " Problem size\n",
      "\n",
      "   # training pts. (exact)   : 100\n",
      "\n",
      "___________________________________________________________________________\n",
      "\n",
      " Training\n",
      "\n",
      "\n",
      "   Total (sec)    :  0.1150579 \n",
      "\n",
      "___________________________________________________________________________\n",
      "\n",
      " Evaluation\n",
      "\n",
      "   # eval pts.  : 500\n",
      "\n",
      "   Total (sec)    :  0.0058239 \n",
      "   Time/pt. (sec) :  0.0000116 \n",
      "\n"
     ]
    }
   ],
   "source": [
    "t = KPLS({'name':'KRG','n_comp':dim,'theta0': [1e-2]*dim,'poly':'quadratic'},{})\n",
    "t.add_training_pts('exact',xt,yt)\n",
    "\n",
    "t.train()\n",
    "y = t.predict(xtest)"
   ]
  },
  {
   "cell_type": "markdown",
   "metadata": {},
   "source": [
    "We compute the relative error (RE)"
   ]
  },
  {
   "cell_type": "code",
   "execution_count": 35,
   "metadata": {
    "collapsed": false
   },
   "outputs": [
    {
     "name": "stdout",
     "output_type": "stream",
     "text": [
      "Kriging,  err: 7.10207133167e-14\n"
     ]
    }
   ],
   "source": [
    "print 'Kriging,  err: '+str(np.sqrt(1/ntest*linalg.norm(y.reshape((ntest,1))-\n",
    "                 ytest.reshape((ntest,1)))**2)/np.sqrt(1/ntest*linalg.norm(\n",
    "                 ytest.reshape((ntest,1)))**2)*100)"
   ]
  },
  {
   "cell_type": "markdown",
   "metadata": {},
   "source": [
    "We plot the results"
   ]
  },
  {
   "cell_type": "code",
   "execution_count": 36,
   "metadata": {
    "collapsed": false
   },
   "outputs": [
    {
     "data": {
      "image/png": "[encoded data removed]",
      "text/plain": [
       "<matplotlib.figure.Figure at 0x7fc2ac0fecd0>"
      ]
     },
     "metadata": {},
     "output_type": "display_data"
    }
   ],
   "source": [
    "plt.figure()\n",
    "plt.plot(ytest,ytest)\n",
    "plt.plot(ytest,y,'.')\n",
    "plt.xlabel('ytest')\n",
    "plt.ylabel('y')\n",
    "plt.show()"
   ]
  },
  {
   "cell_type": "markdown",
   "metadata": {},
   "source": [
    "We can similarly proceed with the parameters 'corr' and 'poly' for the other models."
   ]
  },
  {
   "cell_type": "markdown",
   "metadata": {},
   "source": [
    "#### 2.2.3.2 The KPLS model"
   ]
  },
  {
   "cell_type": "markdown",
   "metadata": {},
   "source": [
    "For using the KPLS model, the user should provide few parameters in the 'Dictionary of the model-options'\n",
    "\n",
    "* 'name': 'KPLS'\n",
    "\n",
    "* 'n_comp': 4, n_comp is the number of principal components. n_comp must be equal to dim for using the kriging model\n",
    "\n",
    "* 'theta0': [1e-2]*4, theta0 is a list of length n_comp, containing the starting point for the hyperparameters optimization\n",
    "\n",
    "* 'poly' : 'constant', poly is a string among ['constant','linear','quadratic'], default: 'constant'.\n",
    "\n",
    "* 'corr' :  'squar_exp', corr is a string among ['abs_exp','squar_exp'], default: 'squar_exp'"
   ]
  },
  {
   "cell_type": "code",
   "execution_count": 37,
   "metadata": {
    "collapsed": false
   },
   "outputs": [
    {
     "name": "stdout",
     "output_type": "stream",
     "text": [
      "___________________________________________________________________________\n",
      "\n",
      "                                   KPLS\n",
      "___________________________________________________________________________\n",
      "\n",
      " Problem size\n",
      "\n",
      "   # training pts. (exact)   : 100\n",
      "\n",
      "___________________________________________________________________________\n",
      "\n",
      " Training\n",
      "\n",
      "\n",
      "   Total (sec)    :  0.0341501 \n",
      "\n",
      "___________________________________________________________________________\n",
      "\n",
      " Evaluation\n",
      "\n",
      "   # eval pts.  : 500\n",
      "\n",
      "   Total (sec)    :  0.0073130 \n",
      "   Time/pt. (sec) :  0.0000146 \n",
      "\n"
     ]
    }
   ],
   "source": [
    "from smt.kpls import KPLS\n",
    "t = KPLS({'name':'KPLS','n_comp':4,'theta0': 4*[1e-2]},{})\n",
    "t.add_training_pts('exact',xt,yt)\n",
    "\n",
    "t.train()\n",
    "y = t.predict(xtest)"
   ]
  },
  {
   "cell_type": "markdown",
   "metadata": {},
   "source": [
    "We compute the relative error (RE)"
   ]
  },
  {
   "cell_type": "code",
   "execution_count": 38,
   "metadata": {
    "collapsed": false
   },
   "outputs": [
    {
     "name": "stdout",
     "output_type": "stream",
     "text": [
      "KPLS,  err: 2.14474001463\n"
     ]
    }
   ],
   "source": [
    "print 'KPLS,  err: '+str(np.sqrt(1/ntest*linalg.norm(y.reshape((ntest,1))-\n",
    "              ytest.reshape((ntest,1)))**2)/np.sqrt(1/ntest*linalg.norm(\n",
    "              ytest.reshape((ntest,1)))**2)*100)"
   ]
  },
  {
   "cell_type": "markdown",
   "metadata": {},
   "source": [
    "We plot the results"
   ]
  },
  {
   "cell_type": "code",
   "execution_count": 39,
   "metadata": {
    "collapsed": false
   },
   "outputs": [
    {
     "data": {
      "image/png": "[encoded data removed]",
      "text/plain": [
       "<matplotlib.figure.Figure at 0x7fc2a6d44a50>"
      ]
     },
     "metadata": {},
     "output_type": "display_data"
    }
   ],
   "source": [
    "plt.figure()\n",
    "plt.plot(ytest,ytest)\n",
    "plt.plot(ytest,y,'.')\n",
    "plt.xlabel('ytest')\n",
    "plt.ylabel('y')\n",
    "plt.show()"
   ]
  },
  {
   "cell_type": "markdown",
   "metadata": {},
   "source": [
    "#### 2.2.3.3 The KPLSK model"
   ]
  },
  {
   "cell_type": "markdown",
   "metadata": {},
   "source": [
    "Compared to the KPLS model, the user only needs to modify the parameter\n",
    "\n",
    "* 'name': 'KPLSK'"
   ]
  },
  {
   "cell_type": "code",
   "execution_count": 40,
   "metadata": {
    "collapsed": false
   },
   "outputs": [
    {
     "name": "stdout",
     "output_type": "stream",
     "text": [
      "___________________________________________________________________________\n",
      "\n",
      "                                   KPLSK\n",
      "___________________________________________________________________________\n",
      "\n",
      " Problem size\n",
      "\n",
      "   # training pts. (exact)   : 100\n",
      "\n",
      "___________________________________________________________________________\n",
      "\n",
      " Training\n",
      "\n",
      "\n",
      "   Total (sec)    :  0.0617280 \n",
      "\n",
      "___________________________________________________________________________\n",
      "\n",
      " Evaluation\n",
      "\n",
      "   # eval pts.  : 500\n",
      "\n",
      "   Total (sec)    :  0.0053480 \n",
      "   Time/pt. (sec) :  0.0000107 \n",
      "\n"
     ]
    }
   ],
   "source": [
    "from smt.kpls import KPLS\n",
    "t = KPLS({'name':'KPLSK','n_comp':4,'theta0': 4*[1e-2]},{})\n",
    "t.add_training_pts('exact',xt,yt)\n",
    "\n",
    "t.train()\n",
    "y = t.predict(xtest)"
   ]
  },
  {
   "cell_type": "markdown",
   "metadata": {},
   "source": [
    "We compute the relative error (RE)"
   ]
  },
  {
   "cell_type": "code",
   "execution_count": 41,
   "metadata": {
    "collapsed": false
   },
   "outputs": [
    {
     "name": "stdout",
     "output_type": "stream",
     "text": [
      "KPLSK,  err: 0.613702459193\n"
     ]
    }
   ],
   "source": [
    "print 'KPLSK,  err: '+str(np.sqrt(1/ntest*linalg.norm(y.reshape((ntest,1))-\n",
    "              ytest.reshape((ntest,1)))**2)/np.sqrt(1/ntest*linalg.norm(\n",
    "              ytest.reshape((ntest,1)))**2)*100)"
   ]
  },
  {
   "cell_type": "markdown",
   "metadata": {},
   "source": [
    "We plot the results"
   ]
  },
  {
   "cell_type": "code",
   "execution_count": 42,
   "metadata": {
    "collapsed": false
   },
   "outputs": [
    {
     "data": {
      "image/png": "[encoded data removed]",
      "text/plain": [
       "<matplotlib.figure.Figure at 0x7fc2a7344410>"
      ]
     },
     "metadata": {},
     "output_type": "display_data"
    }
   ],
   "source": [
    "plt.figure()\n",
    "plt.plot(ytest,ytest)\n",
    "plt.plot(ytest,y,'.')\n",
    "plt.xlabel('ytest')\n",
    "plt.ylabel('y')\n",
    "plt.show()"
   ]
  },
  {
   "cell_type": "markdown",
   "metadata": {},
   "source": [
    "#### 2.2.3.4 The GEKPLS model"
   ]
  },
  {
   "cell_type": "markdown",
   "metadata": {},
   "source": [
    "Contrarily to what we have seen with the previous models, the GEKPLS model needs the gradient information.\n",
    "Therefore, few additional parameters should be defined by the user\n",
    "\n",
    "* 'name': 'GEKPLS'\n",
    "\n",
    "* 'delta_x': 1e-4,   # Step used in the first order Taylor approach, default: 1e-4\n",
    "\n",
    "* 'xlimits': None,   # upper and lower variables bounds, default: None\n",
    "\n",
    "* 'extra_pts': 0,    # Number of extra points per each training point, default: 0"
   ]
  },
  {
   "cell_type": "markdown",
   "metadata": {},
   "source": [
    "In the following, an example of a GEKPLS construction without extra approximated points "
   ]
  },
  {
   "cell_type": "code",
   "execution_count": 43,
   "metadata": {
    "collapsed": false
   },
   "outputs": [
    {
     "name": "stdout",
     "output_type": "stream",
     "text": [
      "___________________________________________________________________________\n",
      "\n",
      "                                  GEKPLS\n",
      "___________________________________________________________________________\n",
      "\n",
      " Problem size\n",
      "\n",
      "   # training pts. (exact)   : 100\n",
      "\n",
      "___________________________________________________________________________\n",
      "\n",
      " Training\n",
      "\n",
      "\n",
      "   Total (sec)    :  0.0452151 \n",
      "\n",
      "___________________________________________________________________________\n",
      "\n",
      " Evaluation\n",
      "\n",
      "   # eval pts.  : 500\n",
      "\n",
      "   Total (sec)    :  0.0056102 \n",
      "   Time/pt. (sec) :  0.0000112 \n",
      "\n"
     ]
    }
   ],
   "source": [
    "from smt.kpls import KPLS\n",
    "t = KPLS({'name':'GEKPLS','n_comp':2,'theta0': [1e-2,1e-2],'xlimits':xlimits},{})\n",
    "t.add_training_pts('exact',xt,yt)\n",
    "# Add the gradient information\n",
    "for i in range(dim):\n",
    "    t.add_training_pts('exact',xt,yd[:, i].reshape((yt.shape[0],1)),kx=i)\n",
    "\n",
    "t.train()\n",
    "y = t.predict(xtest)"
   ]
  },
  {
   "cell_type": "markdown",
   "metadata": {},
   "source": [
    "We compute the relative error (RE)"
   ]
  },
  {
   "cell_type": "code",
   "execution_count": 44,
   "metadata": {
    "collapsed": false
   },
   "outputs": [
    {
     "name": "stdout",
     "output_type": "stream",
     "text": [
      "GEKPLS,  err: 0.000501748683266\n"
     ]
    }
   ],
   "source": [
    "print 'GEKPLS,  err: '+str(np.sqrt(1/ntest*linalg.norm(y.reshape((ntest,1))-\n",
    "                ytest.reshape((ntest,1)))**2)/np.sqrt(1/ntest*linalg.norm(\n",
    "                ytest.reshape((ntest,1)))**2)*100)"
   ]
  },
  {
   "cell_type": "markdown",
   "metadata": {},
   "source": [
    "We plot the results"
   ]
  },
  {
   "cell_type": "code",
   "execution_count": 45,
   "metadata": {
    "collapsed": false
   },
   "outputs": [
    {
     "data": {
      "image/png": "[encoded data removed]",
      "text/plain": [
       "<matplotlib.figure.Figure at 0x7fc2bc703390>"
      ]
     },
     "metadata": {},
     "output_type": "display_data"
    }
   ],
   "source": [
    "plt.figure()\n",
    "plt.plot(ytest,ytest)\n",
    "plt.plot(ytest,y,'.')\n",
    "plt.xlabel('ytest')\n",
    "plt.ylabel('y')\n",
    "plt.show()"
   ]
  },
  {
   "cell_type": "markdown",
   "metadata": {},
   "source": [
    "Let us see an example of a GEKPLS construction witht 1 extra approximated point"
   ]
  },
  {
   "cell_type": "code",
   "execution_count": 46,
   "metadata": {
    "collapsed": false
   },
   "outputs": [
    {
     "name": "stdout",
     "output_type": "stream",
     "text": [
      "___________________________________________________________________________\n",
      "\n",
      "                                  GEKPLS\n",
      "___________________________________________________________________________\n",
      "\n",
      " Problem size\n",
      "\n",
      "   # training pts. (exact)   : 100\n",
      "\n",
      "fmin_cobyla failed but the best value is retained\n",
      "___________________________________________________________________________\n",
      "\n",
      " Training\n",
      "\n",
      "\n",
      "   Total (sec)    :  0.0907340 \n",
      "\n",
      "___________________________________________________________________________\n",
      "\n",
      " Evaluation\n",
      "\n",
      "   # eval pts.  : 500\n",
      "\n",
      "   Total (sec)    :  0.0104499 \n",
      "   Time/pt. (sec) :  0.0000209 \n",
      "\n"
     ]
    }
   ],
   "source": [
    "t = KPLS({'name':'GEKPLS','n_comp':2,'theta0': [1e-2,1e-2],'xlimits':xlimits,'extra_pts':1},{})\n",
    "t.add_training_pts('exact',xt,yt)\n",
    "# Add the gradient information\n",
    "for i in range(dim):\n",
    "    t.add_training_pts('exact',xt,yd[:, i].reshape((yt.shape[0],1)),kx=i)\n",
    "\n",
    "t.train()\n",
    "y = t.predict(xtest)"
   ]
  },
  {
   "cell_type": "markdown",
   "metadata": {},
   "source": [
    "We compute the relative error (RE)"
   ]
  },
  {
   "cell_type": "code",
   "execution_count": 47,
   "metadata": {
    "collapsed": false,
    "scrolled": true
   },
   "outputs": [
    {
     "name": "stdout",
     "output_type": "stream",
     "text": [
      "GEKPLS,  err: 0.103924826187\n"
     ]
    }
   ],
   "source": [
    "print 'GEKPLS,  err: '+str(np.sqrt(1/ntest*linalg.norm(y.reshape((ntest,1))-\n",
    "                ytest.reshape((ntest,1)))**2)/np.sqrt(1/ntest*linalg.norm(\n",
    "                ytest.reshape((ntest,1)))**2)*100)"
   ]
  },
  {
   "cell_type": "markdown",
   "metadata": {},
   "source": [
    "We plot the results"
   ]
  },
  {
   "cell_type": "code",
   "execution_count": 48,
   "metadata": {
    "collapsed": false,
    "scrolled": true
   },
   "outputs": [
    {
     "data": {
      "image/png": "[encoded data removed]",
      "text/plain": [
       "<matplotlib.figure.Figure at 0x7fc2a734bdd0>"
      ]
     },
     "metadata": {},
     "output_type": "display_data"
    }
   ],
   "source": [
    "plt.figure()\n",
    "plt.plot(ytest,ytest)\n",
    "plt.plot(ytest,y,'.')\n",
    "plt.xlabel('ytest')\n",
    "plt.ylabel('y')\n",
    "plt.show()"
   ]
  },
  {
   "cell_type": "markdown",
   "metadata": {},
   "source": [
    "# 2.2.4. The inverse distance weighting"
   ]
  },
  {
   "cell_type": "markdown",
   "metadata": {},
   "source": [
    "The inverse distance weighting (idw) is available only with Linux.\n",
    "The parameters which should be provided by the user\n",
    "\n",
    "* 'name': 'IDW'\n",
    "\n",
    "* 'p': 2.5,   # Parameter p designing the power, default: 2.5\n"
   ]
  },
  {
   "cell_type": "code",
   "execution_count": 49,
   "metadata": {
    "collapsed": false
   },
   "outputs": [
    {
     "name": "stdout",
     "output_type": "stream",
     "text": [
      "___________________________________________________________________________\n",
      "\n",
      "                                    IDW\n",
      "___________________________________________________________________________\n",
      "\n",
      " Problem size\n",
      "\n",
      "   # training pts. (exact)   : 100\n",
      "\n",
      "___________________________________________________________________________\n",
      "\n",
      " Evaluation\n",
      "\n",
      "   # eval pts.  : 500\n",
      "\n",
      "   Total (sec)    :  0.0052040 \n",
      "   Time/pt. (sec) :  0.0000104 \n",
      "\n"
     ]
    }
   ],
   "source": [
    "from smt.idw import IDW\n",
    "t = IDW({'name':'IDW'},{})\n",
    "t.add_training_pts('exact',xt,yt)\n",
    "\n",
    "t.train()\n",
    "y = t.predict(xtest)"
   ]
  },
  {
   "cell_type": "markdown",
   "metadata": {},
   "source": [
    "We compute the relative error (RE)"
   ]
  },
  {
   "cell_type": "code",
   "execution_count": 50,
   "metadata": {
    "collapsed": false
   },
   "outputs": [
    {
     "name": "stdout",
     "output_type": "stream",
     "text": [
      "IDW,  err: 27.0580381051\n"
     ]
    }
   ],
   "source": [
    "print 'IDW,  err: '+str(np.sqrt(1/ntest*linalg.norm(y.reshape((ntest,1))-\n",
    "                ytest.reshape((ntest,1)))**2)/np.sqrt(1/ntest*linalg.norm(\n",
    "                ytest.reshape((ntest,1)))**2)*100)"
   ]
  },
  {
   "cell_type": "markdown",
   "metadata": {},
   "source": [
    "We plot the results"
   ]
  },
  {
   "cell_type": "code",
   "execution_count": 51,
   "metadata": {
    "collapsed": false
   },
   "outputs": [
    {
     "data": {
      "image/png": "[encoded data removed]",
      "text/plain": [
       "<matplotlib.figure.Figure at 0x7fc2ac05f110>"
      ]
     },
     "metadata": {},
     "output_type": "display_data"
    }
   ],
   "source": [
    "plt.figure()\n",
    "plt.plot(ytest,ytest)\n",
    "plt.plot(ytest,y,'.')\n",
    "plt.xlabel('ytest')\n",
    "plt.ylabel('y')\n",
    "plt.show()"
   ]
  },
  {
   "cell_type": "markdown",
   "metadata": {
    "collapsed": true
   },
   "source": [
    "###### Last update November 28, 2016"
   ]
  }
 ],
 "metadata": {
  "anaconda-cloud": {},
  "kernelspec": {
   "display_name": "Python [default]",
   "language": "python",
   "name": "python2"
  },
  "language_info": {
   "codemirror_mode": {
    "name": "ipython",
    "version": 2
   },
   "file_extension": ".py",
   "mimetype": "text/x-python",
   "name": "python",
   "nbconvert_exporter": "python",
   "pygments_lexer": "ipython2",
   "version": "2.7.12"
  }
 },
 "nbformat": 4,
 "nbformat_minor": 0
}
